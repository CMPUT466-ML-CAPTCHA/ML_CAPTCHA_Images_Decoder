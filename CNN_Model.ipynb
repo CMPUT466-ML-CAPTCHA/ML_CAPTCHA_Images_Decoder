{
  "nbformat": 4,
  "nbformat_minor": 0,
  "metadata": {
    "colab": {
      "name": "Untitled0.ipynb",
      "provenance": [],
      "collapsed_sections": []
    },
    "kernelspec": {
      "name": "python3",
      "display_name": "Python 3",
      "language": "python"
    }
  },
  "cells": [
    {
      "source": [
        "# CNN Model (Notebook version)\n",
        "CNN Captcha Recognition Model "
      ],
      "cell_type": "markdown",
      "metadata": {}
    },
    {
      "source": [
        "## Data Pre-processing"
      ],
      "cell_type": "markdown",
      "metadata": {}
    },
    {
      "source": [
        "Import the libraries"
      ],
      "cell_type": "markdown",
      "metadata": {}
    },
    {
      "cell_type": "code",
      "metadata": {
        "id": "RMALnUMlrwqo"
      },
      "source": [
        "import numpy as np\n",
        "import os\n",
        "import cv2\n",
        "import matplotlib.pyplot as plt\n",
        "from pathlib import Path\n",
        "import random\n",
        "import torch\n",
        "from PIL import Image\n",
        "from torchvision import transforms\n",
        "from torch.utils.data import DataLoader\n",
        "import torch.nn as nn\n",
        "\n",
        "device = torch.device(\"cuda:0\" if torch.cuda.is_available() else \"cpu\")\n",
        "print(device)"
      ],
      "execution_count": 40,
      "outputs": [
        {
          "output_type": "stream",
          "name": "stdout",
          "text": [
            "cuda:0\n"
          ]
        }
      ]
    },
    {
      "cell_type": "code",
      "execution_count": 41,
      "metadata": {},
      "outputs": [],
      "source": [
        "NUMBER = ['0', '1', '2', '3', '4', '5', '6', '7', '8', '9']\n",
        "ALPHABET = ['A', 'B', 'C', 'D', 'E', 'F', 'G', 'H', 'I', 'J', 'K', 'L',\n",
        "            'M', 'N', 'O', 'P', 'Q', 'R', 'S', 'T', 'U', 'V', 'W', 'X', 'Y', 'Z']\n",
        "TABLE = NUMBER+ALPHABET"
      ]
    },
    {
      "source": [
        "Load the data, please modify the path by yourself"
      ],
      "cell_type": "markdown",
      "metadata": {}
    },
    {
      "cell_type": "code",
      "metadata": {
        "colab": {
          "base_uri": "https://localhost:8080/",
          "height": 240
        },
        "id": "ovGKMs-RtRkj",
        "outputId": "117a93c3-30ef-4f64-c070-1e1ab59b41db"
      },
      "source": [
        "# Load the data from the Google Drive\n",
        "# data_dir = Path(\"/content/drive/MyDrive/Data\")\n",
        "\n",
        "# path of data set for local\n",
        "data_dir = Path(\"./dataset\")\n",
        "\n",
        "images = list(data_dir.glob(\"*.jpg\")) #the size of dataset\n",
        "print(\"Number of images found: \", len(images))\n",
        "\n"
      ],
      "execution_count": 42,
      "outputs": [
        {
          "output_type": "stream",
          "name": "stdout",
          "text": [
            "Number of images found:  10000\n"
          ]
        }
      ]
    },
    {
      "source": [
        "Show some samples (Optional)"
      ],
      "cell_type": "markdown",
      "metadata": {}
    },
    {
      "cell_type": "code",
      "execution_count": 43,
      "metadata": {},
      "outputs": [
        {
          "output_type": "stream",
          "name": "stdout",
          "text": [
            "Shape of image:  (50, 200, 3)\nShape of image:  (50, 200, 3)\nShape of image:  (50, 200, 3)\nShape of image:  (50, 200, 3)\n"
          ]
        },
        {
          "output_type": "display_data",
          "data": {
            "text/plain": "<Figure size 360x216 with 4 Axes>",
            "image/svg+xml": "<?xml version=\"1.0\" encoding=\"utf-8\" standalone=\"no\"?>\r\n<!DOCTYPE svg PUBLIC \"-//W3C//DTD SVG 1.1//EN\"\r\n  \"http://www.w3.org/Graphics/SVG/1.1/DTD/svg11.dtd\">\r\n<!-- Created with matplotlib (https://matplotlib.org/) -->\r\n<svg height=\"135.057273pt\" version=\"1.1\" viewBox=\"0 0 293.4 135.057273\" width=\"293.4pt\" xmlns=\"http://www.w3.org/2000/svg\" xmlns:xlink=\"http://www.w3.org/1999/xlink\">\r\n <metadata>\r\n  <rdf:RDF xmlns:cc=\"http://creativecommons.org/ns#\" xmlns:dc=\"http://purl.org/dc/elements/1.1/\" xmlns:rdf=\"http://www.w3.org/1999/02/22-rdf-syntax-ns#\">\r\n   <cc:Work>\r\n    <dc:type rdf:resource=\"http://purl.org/dc/dcmitype/StillImage\"/>\r\n    <dc:date>2021-03-07T01:18:21.021471</dc:date>\r\n    <dc:format>image/svg+xml</dc:format>\r\n    <dc:creator>\r\n     <cc:Agent>\r\n      <dc:title>Matplotlib v3.3.2, https://matplotlib.org/</dc:title>\r\n     </cc:Agent>\r\n    </dc:creator>\r\n   </cc:Work>\r\n  </rdf:RDF>\r\n </metadata>\r\n <defs>\r\n  <style type=\"text/css\">*{stroke-linecap:butt;stroke-linejoin:round;}</style>\r\n </defs>\r\n <g id=\"figure_1\">\r\n  <g id=\"patch_1\">\r\n   <path d=\"M 0 135.057273 \r\nL 293.4 135.057273 \r\nL 293.4 0 \r\nL 0 0 \r\nz\r\n\" style=\"fill:none;\"/>\r\n  </g>\r\n  <g id=\"axes_1\">\r\n   <g clip-path=\"url(#p78ccffadc1)\">\r\n    <image height=\"32\" id=\"imagec5b392998b\" transform=\"scale(1 -1)translate(0 -32)\" width=\"127\" x=\"7.2\" xlink:href=\"data:image/png;base64,\r\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\" y=\"-6.904545\"/>\r\n   </g>\r\n  </g>\r\n  <g id=\"axes_2\">\r\n   <g clip-path=\"url(#p576a32f438)\">\r\n    <image height=\"32\" id=\"image0e5a693157\" transform=\"scale(1 -1)translate(0 -32)\" width=\"127\" x=\"159.381818\" xlink:href=\"data:image/png;base64,\r\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\" y=\"-6.904545\"/>\r\n   </g>\r\n  </g>\r\n  <g id=\"axes_3\">\r\n   <g clip-path=\"url(#p63f2d0ee43)\">\r\n    <image height=\"32\" id=\"image1bae0fbb09\" transform=\"scale(1 -1)translate(0 -32)\" width=\"127\" x=\"7.2\" xlink:href=\"data:image/png;base64,\r\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\" y=\"-95.857273\"/>\r\n   </g>\r\n  </g>\r\n  <g id=\"axes_4\">\r\n   <g clip-path=\"url(#p2bbbd2d0a0)\">\r\n    <image height=\"32\" id=\"image30f9377fd6\" transform=\"scale(1 -1)translate(0 -32)\" width=\"127\" x=\"159.381818\" xlink:href=\"data:image/png;base64,\r\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\" y=\"-95.857273\"/>\r\n   </g>\r\n  </g>\r\n </g>\r\n <defs>\r\n  <clipPath id=\"p78ccffadc1\">\r\n   <rect height=\"31.704545\" width=\"126.818182\" x=\"7.2\" y=\"7.2\"/>\r\n  </clipPath>\r\n  <clipPath id=\"p576a32f438\">\r\n   <rect height=\"31.704545\" width=\"126.818182\" x=\"159.381818\" y=\"7.2\"/>\r\n  </clipPath>\r\n  <clipPath id=\"p63f2d0ee43\">\r\n   <rect height=\"31.704545\" width=\"126.818182\" x=\"7.2\" y=\"96.152727\"/>\r\n  </clipPath>\r\n  <clipPath id=\"p2bbbd2d0a0\">\r\n   <rect height=\"31.704545\" width=\"126.818182\" x=\"159.381818\" y=\"96.152727\"/>\r\n  </clipPath>\r\n </defs>\r\n</svg>\r\n",
            "image/png": "[encoded data removed]"
          },
          "metadata": {
            "needs_background": "light"
          }
        }
      ],
      "source": [
        "sample_images =images[:4] \n",
        "_,ax = plt.subplots(2,2, figsize=(5,3))\n",
        "for i in range(4):\n",
        "    img = cv2.imread(str(sample_images[i]))\n",
        "    print(\"Shape of image: \", img.shape)\n",
        "    ax[i//2, i%2].imshow(img)\n",
        "    ax[i//2, i%2].axis('off')\n",
        "plt.show()"
      ]
    },
    {
      "source": [
        "Customize the data set class"
      ],
      "cell_type": "markdown",
      "metadata": {}
    },
    {
      "cell_type": "code",
      "execution_count": 44,
      "metadata": {},
      "outputs": [],
      "source": [
        "def captcha_to_vector(captcha_str):\n",
        "    captcha_str = captcha_str.upper()\n",
        "    vector = np.zeros(36*6, dtype=np.float32)\n",
        "    for i, char in enumerate(captcha_str):\n",
        "        ascii = ord(char)\n",
        "        if 48 <= ascii <= 57:\n",
        "            index = ascii-48\n",
        "        elif 65 <= ascii <= 90:\n",
        "            index = ascii-ord('A')+10\n",
        "        vector[i*36+index] = 1.0\n",
        "    return vector"
      ]
    },
    {
      "cell_type": "code",
      "execution_count": 45,
      "metadata": {},
      "outputs": [],
      "source": [
        "def vector_to_captcha(vector):\n",
        "    pass"
      ]
    },
    {
      "cell_type": "code",
      "execution_count": 46,
      "metadata": {},
      "outputs": [],
      "source": [
        "class CustomDataset(torch.utils.data.Dataset):\n",
        "    def __init__(self, images, transform=None, target_transform=None, height=50, width=200):\n",
        "        self.transform = transform\n",
        "        self.target_transform = target_transform\n",
        "        self.images = images\n",
        "        self.width = width\n",
        "        self.height = height\n",
        "\n",
        "    def __getitem__(self, index):\n",
        "        image = cv2.imread(str(self.images[index]))\n",
        "        image = cv2.cvtColor(image, cv2.COLOR_RGBA2GRAY)\n",
        "        image = cv2.resize(image, (self.width, self.height))\n",
        "        _, image = cv2.threshold(image, 20, 255, cv2.THRESH_BINARY)\n",
        "        assert len(self.images[index].name.split(\"_\")[0].upper()) == 6\n",
        "        label = captcha_to_vector(\n",
        "            self.images[index].name.split(\"_\")[0])\n",
        "\n",
        "        if self.transform is not None:\n",
        "            image = self.transform(image)\n",
        "        return image, label\n",
        "\n",
        "    def __len__(self):\n",
        "        return len(self.images)"
      ]
    },
    {
      "source": [
        "Split the data set"
      ],
      "cell_type": "markdown",
      "metadata": {}
    },
    {
      "cell_type": "code",
      "execution_count": 47,
      "metadata": {},
      "outputs": [
        {
          "output_type": "stream",
          "name": "stdout",
          "text": [
            "test set size: 2000\nvalidation set size: 2000\ntrain set size: 6000\n"
          ]
        }
      ],
      "source": [
        "# test data\n",
        "test_data = images[8000:]  # 2000 for test\n",
        "\n",
        "# the part for training\n",
        "training = images[:8000]\n",
        "valid_data = training[6000:]  # 2000 for validation\n",
        "train_data = training[:6000]  # 6000 for train\n",
        "\n",
        "print(\"test set size:\", len(test_data))\n",
        "print(\"validation set size:\", len(valid_data))\n",
        "print(\"train set size:\", len(train_data))\n",
        "\n",
        "train_set = CustomDataset(train_data, transform=transforms.ToTensor())\n",
        "valid_set = CustomDataset(valid_data, transform=transforms.ToTensor())\n",
        "test_set = CustomDataset(test_data, transform=transforms.ToTensor())\n",
        "\n",
        "train_dataloader = DataLoader(dataset=train_set, batch_size=64, shuffle=True)\n",
        "test_dataloader = DataLoader(dataset=test_set, batch_size=64, shuffle=True)\n",
        "valid_dataloader = DataLoader(dataset=valid_set, batch_size=64, shuffle=True)\n"
      ]
    },
    {
      "source": [
        "After Improvement (Origin -> Grayscale -> Binarization)\n",
        "\n",
        "![](./sample.jpg)"
      ],
      "cell_type": "markdown",
      "metadata": {}
    },
    {
      "source": [
        "# CNN Model"
      ],
      "cell_type": "markdown",
      "metadata": {}
    },
    {
      "cell_type": "code",
      "execution_count": 48,
      "metadata": {},
      "outputs": [],
      "source": [
        "class CNN(nn.Module):\n",
        "    def __init__(self):\n",
        "        super(CNN, self).__init__()\n",
        "        self.layer1 = nn.Sequential(\n",
        "            nn.Conv2d(1, 32, kernel_size=5, padding=2),\n",
        "            nn.BatchNorm2d(32),\n",
        "            nn.ReLU(),\n",
        "            nn.MaxPool2d(2))\n",
        "        self.layer2 = nn.Sequential(\n",
        "            nn.Conv2d(32, 48, kernel_size=5, padding=2),\n",
        "            nn.BatchNorm2d(48),\n",
        "            nn.ReLU(),\n",
        "            nn.MaxPool2d(2))\n",
        "        self.layer3 = nn.Sequential(\n",
        "            nn.Conv2d(48, 64, kernel_size=5, padding=2),\n",
        "            nn.BatchNorm2d(64),\n",
        "            nn.ReLU(),\n",
        "            nn.MaxPool2d(2))\n",
        "        self.layer4 = nn.Sequential(\n",
        "            nn.Conv2d(64, 64, kernel_size=5, padding=2),\n",
        "            nn.BatchNorm2d(64),\n",
        "            nn.ReLU(),\n",
        "            nn.MaxPool2d(2))\n",
        "        self.layer5 = nn.Linear(64*3*12, 512)\n",
        "        self.out = nn.Linear(512, 36*6)\n",
        "\n",
        "    def forward(self, x):\n",
        "        # print(x.shape, '#0')  # torch.Size([64, 1, 50, 200]) #0\n",
        "        x = self.layer1(x)\n",
        "        # print(x.shape, '#1')  # torch.Size([64, 32, 25, 100]) #1\n",
        "        x = self.layer2(x)\n",
        "        # print(x.shape, '#2')  # torch.Size([64, 48, 12, 50]) #1\n",
        "        x = self.layer3(x)\n",
        "        # print(x.shape, '#3')  # torch.Size([64, 64, 6, 25]) #1\n",
        "        x = self.layer4(x)\n",
        "        # print(x.shape, '#4')  # torch.Size([64, 64, 3, 12]) #1\n",
        "        x = x.view(-1, 64*3*12)\n",
        "        # print(x.shape, '#5')\n",
        "        x = self.layer5(x)\n",
        "        # print(x.shape, '#6')\n",
        "        output = self.out(x)\n",
        "        return output\n"
      ]
    },
    {
      "cell_type": "code",
      "execution_count": 49,
      "metadata": {},
      "outputs": [],
      "source": [
        "model = CNN().to(device)"
      ]
    },
    {
      "cell_type": "code",
      "execution_count": 50,
      "metadata": {},
      "outputs": [],
      "source": [
        "def valid(model, valid_dataloader, device):\n",
        "    num_correct = 0  # the counter for the correct items\n",
        "    num_total = 0  # the counter for the total items\n",
        "    mean_acc = 0  # the accuracy of the validation\n",
        "    model.eval()  # set the evaluation state of the model\n",
        "    return 0\n",
        "    # with torch.no_grad():\n",
        "    #     pass\n",
        "    # with torch.no_grad():\n",
        "    #     for images, labels in valid_dataloader:\n",
        "    #         images = images.to(device)\n",
        "    #         labels = labels.to(device)\n",
        "    #         output = model(images)\n",
        "    #         i, predicted = torch.max(output.data, 1)\n",
        "    #         num_total += labels.size(0)\n",
        "    #         num_correct += (predicted == labels).sum().item()\n",
        "    # mean_acc = num_correct / num_total * 100\n",
        "    # return mean_acc"
      ]
    },
    {
      "cell_type": "code",
      "execution_count": 51,
      "metadata": {},
      "outputs": [],
      "source": [
        "\n",
        "def train(model, train_dataloader, valid_dataloader, device):\n",
        "    model.train()\n",
        "    criterion = nn.MultiLabelSoftMarginLoss()\n",
        "    optimizer = torch.optim.Adam(model.parameters(), lr=0.001)\n",
        "    for epoch in range(10):\n",
        "        model.train()\n",
        "        for i, (images, labels) in enumerate(train_dataloader):\n",
        "            images = images.to(device)\n",
        "            labels = labels.to(device)\n",
        "\n",
        "            predict = model(images)\n",
        "            optimizer.zero_grad()\n",
        "            loss = criterion(predict, labels)\n",
        "            loss.backward()\n",
        "            optimizer.step()\n",
        "            # if (i+1) % 500 == 0:\n",
        "            #     print(\"epoch: {} loss: {:.4f}\".format(epoch, loss.item()))\n",
        "        print(epoch,loss.item())\n",
        "        # if (epoch+1) % 5 == 0:\n",
        "        #     # accuracy = valid(model, valid_dataloader, device)\n",
        "        #     accuracy=1\n",
        "        #     print(\"epoch: {} loss: {:.f} accuracy: {:.4f}\".format(\n",
        "        #         epoch, loss.item(), accuracy))"
      ]
    },
    {
      "cell_type": "code",
      "execution_count": 52,
      "metadata": {},
      "outputs": [
        {
          "output_type": "stream",
          "name": "stdout",
          "text": [
            "0 0.08573459833860397\n",
            "1 0.04199344664812088\n",
            "2 0.010930072516202927\n",
            "3 0.00593776348978281\n",
            "4 0.003283726517111063\n",
            "5 0.0013787716161459684\n",
            "6 0.00037253490881994367\n",
            "7 0.0001732365635689348\n",
            "8 0.00011899306991836056\n",
            "9 0.00010626809671521187\n"
          ]
        }
      ],
      "source": [
        "train(model, train_dataloader, valid_dataloader, device)"
      ]
    }
  ]
}