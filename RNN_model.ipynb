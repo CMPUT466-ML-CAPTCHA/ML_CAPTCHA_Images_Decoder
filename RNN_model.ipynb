{
  "nbformat": 4,
  "nbformat_minor": 0,
  "metadata": {
    "colab": {
      "name": "RNN_model.ipynb",
      "provenance": [],
      "collapsed_sections": []
    },
    "kernelspec": {
      "name": "python3",
      "display_name": "Python 3",
      "language": "python"
    }
  },
  "cells": [
    {
      "cell_type": "markdown",
      "metadata": {
        "id": "Vl5lLnMPAyQm"
      },
      "source": [
        "\r\n",
        "**RNN Model (Notebook version)**\r\n",
        "*   RNN Captcha Recognition Model\r\n",
        "*   version 1\r\n"
      ]
    },
    {
      "cell_type": "code",
      "execution_count": 7,
      "metadata": {},
      "outputs": [],
      "source": [
        "import tensorflow as tf\r\n",
        "from CustomDataset import CustomDataset\r\n",
        "\r\n",
        "\r\n"
      ]
    },
    {
      "cell_type": "code",
      "execution_count": null,
      "metadata": {},
      "outputs": [],
      "source": []
    }
  ]
}